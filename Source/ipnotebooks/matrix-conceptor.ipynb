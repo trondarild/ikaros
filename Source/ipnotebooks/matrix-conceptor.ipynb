{
 "metadata": {
  "name": "",
  "signature": "sha256:b0fc914c9748e5efa39cc81a38c00719f837e0cad127a39387c4a773ce526834"
 },
 "nbformat": 3,
 "nbformat_minor": 0,
 "worksheets": [
  {
   "cells": [
    {
     "cell_type": "heading",
     "level": 1,
     "metadata": {},
     "source": [
      "Matrix conceptor basic setup"
     ]
    },
    {
     "cell_type": "code",
     "collapsed": false,
     "input": [
      "\"\"\"Random sparse matrices\"\"\"\n",
      "\n",
      "import numpy\n",
      "from scipy.sparse import csr_matrix\n",
      "from scipy import rand, randn\n",
      "#TODO add sprandn\n",
      "\n",
      "def _rand_sparse(m, n, density, format='csr'):\n",
      "    \"\"\"Helper function for sprand, sprandn\"\"\"\n",
      "\n",
      "    nnz = max( min( int(m*n*density), m*n), 0)\n",
      "\n",
      "    row  = numpy.random.random_integers(low=0, high=m-1, size=nnz)\n",
      "    col  = numpy.random.random_integers(low=0, high=n-1, size=nnz)\n",
      "    data = numpy.ones(nnz, dtype=float)\n",
      "\n",
      "    # duplicate (i,j) entries will be summed together\n",
      "    return csr_matrix((data,(row,col)), shape=(m,n))\n",
      "\n",
      "def sprand(m, n, density, format='csr'):\n",
      "    \"\"\"Returns a random sparse matrix.\n",
      "\n",
      "    Parameters\n",
      "    ----------\n",
      "    m, n : int\n",
      "        shape of the result\n",
      "    density : float\n",
      "        target a matrix with nnz(A) = m*n*density, 0<=density<=1\n",
      "    format : string\n",
      "        sparse matrix format to return, e.g. 'csr', 'coo', etc.\n",
      "\n",
      "    Returns\n",
      "    -------\n",
      "    A : sparse matrix\n",
      "        m x n sparse matrix\n",
      "\n",
      "    Examples\n",
      "    --------\n",
      "    >>> import numpy\n",
      "    >>> A = sprand(5,5,3/5.0)\n",
      "\n",
      "    \"\"\"\n",
      "    m,n = int(m),int(n)\n",
      "\n",
      "    # get sparsity pattern\n",
      "    A = _rand_sparse(m, n, density, format='csr')\n",
      "\n",
      "    # replace data with random values - need \n",
      "    A.data = rand(A.nnz)\n",
      "\n",
      "    return A.asformat(format)\n",
      "\n",
      "def sprandn(m, n, density, format='csr'):\n",
      "    \"\"\"Returns a random sparse matrix.\n",
      "\n",
      "    Parameters\n",
      "    ----------\n",
      "    m, n : int\n",
      "        shape of the result\n",
      "    density : float\n",
      "        target a matrix with nnz(A) = m*n*density, 0<=density<=1\n",
      "    format : string\n",
      "        sparse matrix format to return, e.g. 'csr', 'coo', etc.\n",
      "\n",
      "    Returns\n",
      "    -------\n",
      "    A : sparse matrix\n",
      "        m x n sparse matrix\n",
      "\n",
      "    Examples\n",
      "    --------\n",
      "    >>> import numpy\n",
      "    >>> A = sprand(5,5,3/5.0)\n",
      "\n",
      "    \"\"\"\n",
      "    m,n = int(m),int(n)\n",
      "\n",
      "    # get sparsity pattern\n",
      "    A = _rand_sparse(m, n, density, format='csr')\n",
      "\n",
      "    # replace data with random values - need \n",
      "    A.data = randn(A.nnz)\n",
      "\n",
      "    return A.asformat(format)\n"
     ],
     "language": "python",
     "metadata": {},
     "outputs": [],
     "prompt_number": 57
    },
    {
     "cell_type": "heading",
     "level": 2,
     "metadata": {},
     "source": [
      "Includes"
     ]
    },
    {
     "cell_type": "code",
     "collapsed": false,
     "input": [
      "from numpy import random as rnd\n",
      "from numpy import identity, zeros, linspace, sin, ones \n",
      "from numpy import float64, tanh, linalg, arctanh, kron\n",
      "from scipy.signal import square, sawtooth\n",
      "#from math import sin"
     ],
     "language": "python",
     "metadata": {},
     "outputs": [],
     "prompt_number": 11
    },
    {
     "cell_type": "heading",
     "level": 2,
     "metadata": {},
     "source": [
      "Initialization"
     ]
    },
    {
     "cell_type": "code",
     "collapsed": false,
     "input": [
      "# note: if use float32, tend to get saturation of tanh function, which\n",
      "#  leads to inifinities in arctanh and NaN\n",
      "Float = float64\n",
      "np.random.RandomState(8)\n",
      "# network size\n",
      "network_size = 100\n",
      "# input size\n",
      "input_dim = 1\n",
      "pattern_length = 400\n",
      "\n",
      "tychonov_alpha = 0.0001\n",
      "tychonov_alpha_readout = 0.01\n",
      "washout_length = 500\n",
      "learnlength = 5*pattern_length\n",
      "\n",
      "conceptor_aperture = 10\n",
      "conceptor_test_length = 400\n",
      "inp_rows = 1\n",
      "num_patterns = 3 # take from list later"
     ],
     "language": "python",
     "metadata": {},
     "outputs": [],
     "prompt_number": 12
    },
    {
     "cell_type": "heading",
     "level": 3,
     "metadata": {},
     "source": [
      "Signal generators"
     ]
    },
    {
     "cell_type": "code",
     "collapsed": false,
     "input": [
      "# set up signal generators\n",
      "scale = 0.8\n",
      "frequency=4.8342522\n",
      "\n",
      "generators = [\n",
      "    lambda t: scale*square(2*np.pi*t/frequency, duty=0.5),\n",
      "    lambda t: scale*sawtooth(2*np.pi*t/frequency),\n",
      "    lambda t: scale*sin(2*np.pi*t/frequency),\n",
      "    #lambda t: scale*sin(2*np.pi*t/13.19),\n",
      "    #lambda t: scale*sin(2*np.pi*t/10.8342)\n",
      "    ]\n",
      "num_patterns = len(generators)"
     ],
     "language": "python",
     "metadata": {},
     "outputs": [],
     "prompt_number": 104
    },
    {
     "cell_type": "code",
     "collapsed": false,
     "input": [
      "tst = [\n",
      "    #lambda x: x+1, \n",
      "    lambda x:3*x\n",
      "]\n",
      "tst[0](1)"
     ],
     "language": "python",
     "metadata": {},
     "outputs": [
      {
       "metadata": {},
       "output_type": "pyout",
       "prompt_number": 8,
       "text": [
        "3"
       ]
      }
     ],
     "prompt_number": 8
    },
    {
     "cell_type": "heading",
     "level": 3,
     "metadata": {},
     "source": [
      "Weights"
     ]
    },
    {
     "cell_type": "code",
     "collapsed": false,
     "input": [
      "# set up scaling values for weights\n",
      "netconnectivity = 0.1\n",
      "net_spectral_radius = 1.5\n",
      "net_input_scaling = 1.5\n",
      "bias_scaling = 0.2"
     ],
     "language": "python",
     "metadata": {},
     "outputs": [],
     "prompt_number": 71
    },
    {
     "cell_type": "code",
     "collapsed": false,
     "input": [
      "# set up raw weights\n",
      "W_star_raw = 0.2*sprandn(network_size, network_size, netconnectivity)\n",
      "W_in_raw = rnd.standard_normal((network_size, inp_rows))\n",
      "bias_raw = rnd.standard_normal((network_size, 1))\n",
      "I = np.matrix(identity(network_size))\n",
      "\n",
      "# scale weights\n",
      "W_star = W_star_raw*net_spectral_radius\n",
      "W_in = W_in_raw*net_input_scaling\n",
      "bias = bias_raw*bias_scaling"
     ],
     "language": "python",
     "metadata": {},
     "outputs": [],
     "prompt_number": 92
    },
    {
     "cell_type": "heading",
     "level": 3,
     "metadata": {},
     "source": [
      "Collectors"
     ]
    },
    {
     "cell_type": "code",
     "collapsed": false,
     "input": [
      "# set up global collectors\n",
      "x_current_collector_all = np.matrix(zeros((network_size, \n",
      "                                 num_patterns*learnlength), \n",
      "                                Float))\n",
      "x_prev_collector_all = np.matrix(zeros((network_size, \n",
      "                              num_patterns*learnlength), \n",
      "                            Float))\n",
      "input_collector_all = np.matrix(zeros((inp_rows, \n",
      "                             num_patterns*learnlength),\n",
      "                            Float))\n",
      "\n",
      "conceptors = {}\n",
      "conceptor_prev = identity(network_size)"
     ],
     "language": "python",
     "metadata": {},
     "outputs": [],
     "prompt_number": 20
    },
    {
     "cell_type": "heading",
     "level": 2,
     "metadata": {},
     "source": [
      "Looping through inputs"
     ]
    },
    {
     "cell_type": "code",
     "collapsed": false,
     "input": [
      "t = linspace(0, 3*conceptor_test_length, washout_length+learnlength)\n",
      "for pattern_ix in range(num_patterns):\n",
      "    pattern_gen = generators[pattern_ix]\n",
      "    \n",
      "    # local collectors\n",
      "    x_collector = np.matrix(zeros((network_size, learnlength), Float))\n",
      "    x_prev_collector = np.matrix(zeros((network_size, learnlength), Float))\n",
      "    input_collector = np.matrix(zeros((inp_rows, learnlength), Float))\n",
      "    \n",
      "    network_state = zeros((network_size, 1), Float)\n",
      "    \n",
      "    # apply input to network\n",
      "    for time in range(washout_length+learnlength):\n",
      "        inp = pattern_gen(t[time])\n",
      "        x_prev = network_state\n",
      "        \n",
      "        # update network\n",
      "        network_state = tanh(W_star*network_state + W_in*inp + bias)\n",
      "        #tst = (network_state-x_prev).mean()\n",
      "        #if tst > 0.05:\n",
      "        #    print tst\n",
      "        if time > washout_length:\n",
      "            # collect values\n",
      "            x_prev_collector[:, time-washout_length] = x_prev\n",
      "            x_collector[:, time-washout_length] = network_state\n",
      "            input_collector[:, time-washout_length] = inp\n",
      "    # calculate conceptor for current pattern\n",
      "    correlation = (x_collector*x_collector.transpose())/learnlength\n",
      "    conceptor = correlation*linalg.inv(correlation +\n",
      "                                       pow(conceptor_aperture,-2)*I)\n",
      "    conceptors[pattern_ix] = conceptor\n",
      "    \n",
      "    # collect collectors\n",
      "    ix = (pattern_ix)*learnlength\n",
      "    x_current_collector_all[:, ix:ix+learnlength] = x_collector\n",
      "    x_prev_collector_all[:, ix:ix+learnlength] = x_prev_collector\n",
      "    input_collector_all[:, ix:ix+learnlength] = input_collector"
     ],
     "language": "python",
     "metadata": {},
     "outputs": [],
     "prompt_number": 105
    },
    {
     "cell_type": "code",
     "collapsed": false,
     "input": [
      "\n",
      "# checking \n",
      "x = np.matrix(   '0.99192;\\\n",
      "   0.16406;\\\n",
      "   1.23785;\\\n",
      "   0.53790')\n",
      "xcoll = np.matrix('0.067771   0.821256  -0.708751  -0.147770   0.148065  -0.797634   0.492665    -0.401683  -0.339864   0.310244;\\\n",
      "  -0.180933   0.134491  -0.863273  -0.421507  -1.071188  -1.037285   0.621940   1.720697  -1.440053   0.171876;\\\n",
      "   0.738143   0.541508  -0.223162   0.138619  -0.993838   0.194932  -0.193884   0.443036   1.674756   1.720105;\\\n",
      "   0.180678  -1.597787  -0.285282   1.047977   0.102958  -0.017659  -1.119064  -0.153398  -0.685990  -0.105044'\n",
      ")\n",
      "aperture = 0.0001\n",
      "llength = 10\n",
      "corr = (xcoll*xcoll.transpose())/llength\n",
      "#print corr\n",
      "conc = corr*linalg.inv(corr + pow(aperture, -2)*identity(4))\n",
      "#print conc\n",
      "u,s,v = linalg.svd(conc)\n",
      "print s"
     ],
     "language": "python",
     "metadata": {},
     "outputs": []
    },
    {
     "cell_type": "heading",
     "level": 2,
     "metadata": {},
     "source": [
      "Ridge regression"
     ]
    },
    {
     "cell_type": "code",
     "collapsed": false,
     "input": [
      "# from http://pydoc.net/Python/oceans/0.2.1/oceans.ff_tools.teaching/\n",
      "def rmsd(x, y, normalize=False):\n",
      "    \"\"\"Compute root mean square difference (or distance).\n",
      "    The normalized root-mean-square deviation or error (NRMSD or NRMSE) is the\n",
      "    RMSD divided by the range of observed values.  The value is often expressed\n",
      "    as a percentage, where lower values indicate less residual variance.\n",
      "    \"\"\"\n",
      "    x, y = map(np.asanyarray, (x, y))\n",
      "    rmsd = np.sqrt(np.sum(np.power((x - y), 2)) / x.size)\n",
      "    if normalize:\n",
      "        rmsd = rmsd / x.ptp()\n",
      "    return rmsd"
     ],
     "language": "python",
     "metadata": {},
     "outputs": [],
     "prompt_number": 106
    },
    {
     "cell_type": "code",
     "collapsed": false,
     "input": [
      "# udpate W\n",
      "W_targets = arctanh(x_current_collector_all) - \\\n",
      "    kron(ones((1,num_patterns*learnlength)),bias)\n",
      "W_upd = (linalg.inv(x_prev_collector_all*x_prev_collector_all.transpose() +\\\n",
      "                    tychonov_alpha*I) * x_prev_collector_all*\\\n",
      "                     W_targets.transpose()).transpose()\n",
      "# check nrmse\n",
      "nrmse_W = rmsd(W_upd*x_prev_collector_all, \n",
      "               W_targets, \n",
      "               normalize=True)\n",
      "print nrmse_W\n",
      "\n",
      "# update W_out\n",
      "W_out = (linalg.inv(x_current_collector_all*x_current_collector_all.transpose() +\\\n",
      "                    tychonov_alpha_readout*I) * x_current_collector_all*\\\n",
      "                     input_collector_all.transpose()).transpose()\n",
      "nrmse_out = rmsd(W_out*x_current_collector_all, \n",
      "                 input_collector_all, \n",
      "                 normalize = True)\n",
      "print nrmse_out"
     ],
     "language": "python",
     "metadata": {},
     "outputs": [
      {
       "output_type": "stream",
       "stream": "stdout",
       "text": [
        "0.0163240276731\n",
        "0.000225225988346\n"
       ]
      }
     ],
     "prompt_number": 107
    },
    {
     "cell_type": "heading",
     "level": 2,
     "metadata": {},
     "source": [
      "Conceptor test"
     ]
    },
    {
     "cell_type": "code",
     "collapsed": false,
     "input": [
      "from matplotlib.pyplot import figure, plot, xlabel, ylabel, grid, show\n",
      "%matplotlib inline\n",
      "plot_len = 100\n",
      "plotdata = (zeros((plot_len), Float))\n",
      "t = linspace(0, plot_len-1, plot_len)\n",
      "for pattern_ix in range(num_patterns):\n",
      "    conceptor = conceptors[pattern_ix]\n",
      "    network_state = np.matrix(rnd.standard_normal((network_size,1)))\n",
      "\n",
      "    for n in range(conceptor_test_length):\n",
      "        network_state = tanh(W_upd*network_state + bias)\n",
      "        network_state = conceptor*network_state\n",
      "        \n",
      "        if n<plot_len:\n",
      "            plotdata[n] = W_out*network_state\n",
      "    \n",
      "    # plot\n",
      "    figure()\n",
      "    plot(t,plotdata,'b')\n",
      "    xlabel('n'), ylabel('y')\n",
      "    grid()\n",
      "    show()"
     ],
     "language": "python",
     "metadata": {},
     "outputs": [
      {
       "metadata": {},
       "output_type": "display_data",
       "png": "[encoded data removed]",
       "text": [
        "<matplotlib.figure.Figure at 0x1097c8c50>"
       ]
      },
      {
       "metadata": {},
       "output_type": "display_data",
       "png": "[encoded data removed]",
       "text": [
        "<matplotlib.figure.Figure at 0x1099c6e90>"
       ]
      },
      {
       "metadata": {},
       "output_type": "display_data",
       "png": "[encoded data removed]",
       "text": [
        "<matplotlib.figure.Figure at 0x109b4b490>"
       ]
      }
     ],
     "prompt_number": 108
    },
    {
     "cell_type": "code",
     "collapsed": false,
     "input": [
      "#W_upd\n",
      "#plotdata\n",
      "#network_state\n",
      "#conceptor"
     ],
     "language": "python",
     "metadata": {},
     "outputs": []
    },
    {
     "cell_type": "code",
     "collapsed": false,
     "input": [
      "print input_collector_all.shape\n",
      "#(input_collector_all.reshape(3000)).shape\n",
      "y = np.squeeze(np.asarray(input_collector_all))\n",
      "print y.shape\n",
      "print generators[0](t).shape\n",
      "#figure()\n",
      "t = linspace(0, 400, washout_length+learnlength)\n",
      "plot(t[0:100], y[1500:1600])#generators[0](t)\n"
     ],
     "language": "python",
     "metadata": {},
     "outputs": [
      {
       "output_type": "stream",
       "stream": "stdout",
       "text": [
        "(1, 6000)\n",
        "(6000,)\n",
        "(100,)\n"
       ]
      },
      {
       "metadata": {},
       "output_type": "pyout",
       "prompt_number": 109,
       "text": [
        "[<matplotlib.lines.Line2D at 0x10a1185d0>]"
       ]
      },
      {
       "metadata": {},
       "output_type": "display_data",
       "png": "[encoded data removed]",
       "text": [
        "<matplotlib.figure.Figure at 0x10a1a7690>"
       ]
      }
     ],
     "prompt_number": 109
    }
   ],
   "metadata": {}
  }
 ]
}